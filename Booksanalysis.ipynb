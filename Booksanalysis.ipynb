{
 "cells": [
  {
   "cell_type": "markdown",
   "id": "4e9e323f-fb87-4241-a512-0b76dd042194",
   "metadata": {},
   "source": [
    "Data set: https://www.kaggle.com/datasets/rafsunahmad/most-sold-books-in-the-world"
   ]
  },
  {
   "cell_type": "code",
   "execution_count": 1,
   "id": "8bf7a0a0-c8f8-4136-8b0e-d7e04b5a4f15",
   "metadata": {},
   "outputs": [],
   "source": [
    "import pandas as pd\n",
    "import seaborn as sns\n",
    "import matplotlib.pyplot as plt"
   ]
  },
  {
   "cell_type": "code",
   "execution_count": 2,
   "id": "09f3a714-dfcc-4964-800e-ad8f1a4d9c7f",
   "metadata": {},
   "outputs": [],
   "source": [
    "df = pd.read_csv(r'C:\\Users\\48797\\Documents\\ProjektyPython\\AnalizaKsiązki\\books.csv')"
   ]
  },
  {
   "cell_type": "code",
   "execution_count": 3,
   "id": "5657acd2-9027-4830-8ae5-f1e9e82a45b2",
   "metadata": {},
   "outputs": [
    {
     "data": {
      "text/html": [
       "<div>\n",
       "<style scoped>\n",
       "    .dataframe tbody tr th:only-of-type {\n",
       "        vertical-align: middle;\n",
       "    }\n",
       "\n",
       "    .dataframe tbody tr th {\n",
       "        vertical-align: top;\n",
       "    }\n",
       "\n",
       "    .dataframe thead th {\n",
       "        text-align: right;\n",
       "    }\n",
       "</style>\n",
       "<table border=\"1\" class=\"dataframe\">\n",
       "  <thead>\n",
       "    <tr style=\"text-align: right;\">\n",
       "      <th></th>\n",
       "      <th>Book</th>\n",
       "      <th>Author(s)</th>\n",
       "      <th>Original language</th>\n",
       "      <th>First published</th>\n",
       "      <th>Approximate sales</th>\n",
       "      <th>Genre</th>\n",
       "    </tr>\n",
       "  </thead>\n",
       "  <tbody>\n",
       "    <tr>\n",
       "      <th>0</th>\n",
       "      <td>A Tale of Two Cities</td>\n",
       "      <td>Charles Dickens</td>\n",
       "      <td>English</td>\n",
       "      <td>1859</td>\n",
       "      <td>&gt;200 million[20][circular reporting?]</td>\n",
       "      <td>Historical fiction</td>\n",
       "    </tr>\n",
       "    <tr>\n",
       "      <th>1</th>\n",
       "      <td>The Little Prince (Le Petit Prince)</td>\n",
       "      <td>Antoine de Saint-Exupéry</td>\n",
       "      <td>French</td>\n",
       "      <td>1943</td>\n",
       "      <td>200 million[21][22]</td>\n",
       "      <td>Fantasy, Children's fiction</td>\n",
       "    </tr>\n",
       "    <tr>\n",
       "      <th>2</th>\n",
       "      <td>Harry Potter and the Philosopher's Stone</td>\n",
       "      <td>J. K. Rowling</td>\n",
       "      <td>English</td>\n",
       "      <td>1997</td>\n",
       "      <td>120 million[23][24]</td>\n",
       "      <td>Fantasy, Children's fiction</td>\n",
       "    </tr>\n",
       "    <tr>\n",
       "      <th>3</th>\n",
       "      <td>And Then There Were None</td>\n",
       "      <td>Agatha Christie</td>\n",
       "      <td>English</td>\n",
       "      <td>1939</td>\n",
       "      <td>100 million[25]</td>\n",
       "      <td>Mystery</td>\n",
       "    </tr>\n",
       "    <tr>\n",
       "      <th>4</th>\n",
       "      <td>Dream of the Red Chamber (???)</td>\n",
       "      <td>Cao Xueqin</td>\n",
       "      <td>Chinese</td>\n",
       "      <td>1791</td>\n",
       "      <td>100 million[26][27]</td>\n",
       "      <td>Family saga</td>\n",
       "    </tr>\n",
       "  </tbody>\n",
       "</table>\n",
       "</div>"
      ],
      "text/plain": [
       "                                       Book                 Author(s)  \\\n",
       "0                      A Tale of Two Cities           Charles Dickens   \n",
       "1       The Little Prince (Le Petit Prince)  Antoine de Saint-Exupéry   \n",
       "2  Harry Potter and the Philosopher's Stone             J. K. Rowling   \n",
       "3                  And Then There Were None           Agatha Christie   \n",
       "4            Dream of the Red Chamber (???)                Cao Xueqin   \n",
       "\n",
       "  Original language First published                      Approximate sales  \\\n",
       "0           English            1859  >200 million[20][circular reporting?]   \n",
       "1            French            1943                    200 million[21][22]   \n",
       "2           English            1997                    120 million[23][24]   \n",
       "3           English            1939                        100 million[25]   \n",
       "4           Chinese            1791                    100 million[26][27]   \n",
       "\n",
       "                         Genre  \n",
       "0           Historical fiction  \n",
       "1  Fantasy, Children's fiction  \n",
       "2  Fantasy, Children's fiction  \n",
       "3                      Mystery  \n",
       "4                  Family saga  "
      ]
     },
     "execution_count": 3,
     "metadata": {},
     "output_type": "execute_result"
    }
   ],
   "source": [
    "df.head()"
   ]
  },
  {
   "cell_type": "code",
   "execution_count": 4,
   "id": "924aada8-4106-4a8c-9f6b-876daf5e8a62",
   "metadata": {},
   "outputs": [
    {
     "data": {
      "text/plain": [
       "Book                 object\n",
       "Author(s)            object\n",
       "Original language    object\n",
       "First published      object\n",
       "Approximate sales    object\n",
       "Genre                object\n",
       "dtype: object"
      ]
     },
     "execution_count": 4,
     "metadata": {},
     "output_type": "execute_result"
    }
   ],
   "source": [
    "df.dtypes"
   ]
  },
  {
   "cell_type": "code",
   "execution_count": 5,
   "id": "096aa938-aab0-4c88-ae0e-3010319b5e4d",
   "metadata": {},
   "outputs": [
    {
     "data": {
      "text/plain": [
       "(264, 6)"
      ]
     },
     "execution_count": 5,
     "metadata": {},
     "output_type": "execute_result"
    }
   ],
   "source": [
    "df.shape"
   ]
  },
  {
   "cell_type": "code",
   "execution_count": 6,
   "id": "5740b5cb-74e5-4746-a128-7fd0ee3c1d04",
   "metadata": {},
   "outputs": [
    {
     "data": {
      "text/html": [
       "<div>\n",
       "<style scoped>\n",
       "    .dataframe tbody tr th:only-of-type {\n",
       "        vertical-align: middle;\n",
       "    }\n",
       "\n",
       "    .dataframe tbody tr th {\n",
       "        vertical-align: top;\n",
       "    }\n",
       "\n",
       "    .dataframe thead th {\n",
       "        text-align: right;\n",
       "    }\n",
       "</style>\n",
       "<table border=\"1\" class=\"dataframe\">\n",
       "  <thead>\n",
       "    <tr style=\"text-align: right;\">\n",
       "      <th></th>\n",
       "      <th>Book</th>\n",
       "      <th>Author(s)</th>\n",
       "      <th>Original language</th>\n",
       "      <th>First published</th>\n",
       "      <th>Approximate sales</th>\n",
       "      <th>Genre</th>\n",
       "    </tr>\n",
       "  </thead>\n",
       "  <tbody>\n",
       "    <tr>\n",
       "      <th>0</th>\n",
       "      <td>A Tale of Two Cities</td>\n",
       "      <td>Charles Dickens</td>\n",
       "      <td>English</td>\n",
       "      <td>1859</td>\n",
       "      <td>&gt;200 million[20][circular reporting?]</td>\n",
       "      <td>Historical fiction</td>\n",
       "    </tr>\n",
       "    <tr>\n",
       "      <th>1</th>\n",
       "      <td>The Little Prince (Le Petit Prince)</td>\n",
       "      <td>Antoine de Saint-Exupéry</td>\n",
       "      <td>French</td>\n",
       "      <td>1943</td>\n",
       "      <td>200 million[21][22]</td>\n",
       "      <td>Fantasy, Children's fiction</td>\n",
       "    </tr>\n",
       "    <tr>\n",
       "      <th>2</th>\n",
       "      <td>Harry Potter and the Philosopher's Stone</td>\n",
       "      <td>J. K. Rowling</td>\n",
       "      <td>English</td>\n",
       "      <td>1997</td>\n",
       "      <td>120 million[23][24]</td>\n",
       "      <td>Fantasy, Children's fiction</td>\n",
       "    </tr>\n",
       "    <tr>\n",
       "      <th>3</th>\n",
       "      <td>And Then There Were None</td>\n",
       "      <td>Agatha Christie</td>\n",
       "      <td>English</td>\n",
       "      <td>1939</td>\n",
       "      <td>100 million[25]</td>\n",
       "      <td>Mystery</td>\n",
       "    </tr>\n",
       "    <tr>\n",
       "      <th>4</th>\n",
       "      <td>Dream of the Red Chamber (???)</td>\n",
       "      <td>Cao Xueqin</td>\n",
       "      <td>Chinese</td>\n",
       "      <td>1791</td>\n",
       "      <td>100 million[26][27]</td>\n",
       "      <td>Family saga</td>\n",
       "    </tr>\n",
       "    <tr>\n",
       "      <th>...</th>\n",
       "      <td>...</td>\n",
       "      <td>...</td>\n",
       "      <td>...</td>\n",
       "      <td>...</td>\n",
       "      <td>...</td>\n",
       "      <td>...</td>\n",
       "    </tr>\n",
       "    <tr>\n",
       "      <th>259</th>\n",
       "      <td>Bridget Jones's Diary</td>\n",
       "      <td>Helen Fielding</td>\n",
       "      <td>English</td>\n",
       "      <td>1996</td>\n",
       "      <td>10 million (as of 2005)[186]</td>\n",
       "      <td>Erotica</td>\n",
       "    </tr>\n",
       "    <tr>\n",
       "      <th>260</th>\n",
       "      <td>World Almanac (published every year)</td>\n",
       "      <td>Various authors</td>\n",
       "      <td>English</td>\n",
       "      <td>186876; 1886present</td>\n",
       "      <td>82 million[325][326]</td>\n",
       "      <td>Erotica</td>\n",
       "    </tr>\n",
       "    <tr>\n",
       "      <th>261</th>\n",
       "      <td>Betty Crocker Cookbook</td>\n",
       "      <td>General Mills staff</td>\n",
       "      <td>English</td>\n",
       "      <td>19502016 (12th edition)</td>\n",
       "      <td>75 million[327]</td>\n",
       "      <td>Erotica</td>\n",
       "    </tr>\n",
       "    <tr>\n",
       "      <th>262</th>\n",
       "      <td>Tung Shing (Chinese: ??)</td>\n",
       "      <td>Choi Park Lai's family, among others</td>\n",
       "      <td>Chinese</td>\n",
       "      <td>1891(Only counting versions published by Choi'...</td>\n",
       "      <td>&gt;70 million (Only counting version published b...</td>\n",
       "      <td>Erotica</td>\n",
       "    </tr>\n",
       "    <tr>\n",
       "      <th>263</th>\n",
       "      <td>Merriam-Webster's Collegiate Dictionary</td>\n",
       "      <td>Merriam-Webster</td>\n",
       "      <td>English</td>\n",
       "      <td>1898</td>\n",
       "      <td>55 million[329]</td>\n",
       "      <td>Erotica</td>\n",
       "    </tr>\n",
       "  </tbody>\n",
       "</table>\n",
       "<p>264 rows × 6 columns</p>\n",
       "</div>"
      ],
      "text/plain": [
       "                                         Book  \\\n",
       "0                        A Tale of Two Cities   \n",
       "1         The Little Prince (Le Petit Prince)   \n",
       "2    Harry Potter and the Philosopher's Stone   \n",
       "3                    And Then There Were None   \n",
       "4              Dream of the Red Chamber (???)   \n",
       "..                                        ...   \n",
       "259                     Bridget Jones's Diary   \n",
       "260      World Almanac (published every year)   \n",
       "261                    Betty Crocker Cookbook   \n",
       "262                  Tung Shing (Chinese: ??)   \n",
       "263   Merriam-Webster's Collegiate Dictionary   \n",
       "\n",
       "                                Author(s) Original language  \\\n",
       "0                         Charles Dickens           English   \n",
       "1                Antoine de Saint-Exupéry            French   \n",
       "2                           J. K. Rowling           English   \n",
       "3                         Agatha Christie           English   \n",
       "4                              Cao Xueqin           Chinese   \n",
       "..                                    ...               ...   \n",
       "259                        Helen Fielding           English   \n",
       "260                       Various authors           English   \n",
       "261                   General Mills staff           English   \n",
       "262  Choi Park Lai's family, among others           Chinese   \n",
       "263                       Merriam-Webster           English   \n",
       "\n",
       "                                       First published  \\\n",
       "0                                                 1859   \n",
       "1                                                 1943   \n",
       "2                                                 1997   \n",
       "3                                                 1939   \n",
       "4                                                 1791   \n",
       "..                                                 ...   \n",
       "259                                               1996   \n",
       "260                              186876; 1886present   \n",
       "261                           19502016 (12th edition)   \n",
       "262  1891(Only counting versions published by Choi'...   \n",
       "263                                               1898   \n",
       "\n",
       "                                     Approximate sales  \\\n",
       "0                >200 million[20][circular reporting?]   \n",
       "1                                  200 million[21][22]   \n",
       "2                                  120 million[23][24]   \n",
       "3                                      100 million[25]   \n",
       "4                                  100 million[26][27]   \n",
       "..                                                 ...   \n",
       "259                       10 million (as of 2005)[186]   \n",
       "260                               82 million[325][326]   \n",
       "261                                    75 million[327]   \n",
       "262  >70 million (Only counting version published b...   \n",
       "263                                    55 million[329]   \n",
       "\n",
       "                           Genre  \n",
       "0             Historical fiction  \n",
       "1    Fantasy, Children's fiction  \n",
       "2    Fantasy, Children's fiction  \n",
       "3                        Mystery  \n",
       "4                    Family saga  \n",
       "..                           ...  \n",
       "259                      Erotica  \n",
       "260                      Erotica  \n",
       "261                      Erotica  \n",
       "262                      Erotica  \n",
       "263                      Erotica  \n",
       "\n",
       "[264 rows x 6 columns]"
      ]
     },
     "execution_count": 6,
     "metadata": {},
     "output_type": "execute_result"
    }
   ],
   "source": [
    "df"
   ]
  },
  {
   "cell_type": "code",
   "execution_count": 7,
   "id": "c099763f-87bd-4dc1-bf94-a592faad80f4",
   "metadata": {},
   "outputs": [],
   "source": [
    "df['First published'] = df['First published'].str.slice(0, 4)"
   ]
  },
  {
   "cell_type": "code",
   "execution_count": 8,
   "id": "97ac9c82-a2d1-4e16-8edd-a8940b8dd26e",
   "metadata": {},
   "outputs": [
    {
     "data": {
      "text/html": [
       "<div>\n",
       "<style scoped>\n",
       "    .dataframe tbody tr th:only-of-type {\n",
       "        vertical-align: middle;\n",
       "    }\n",
       "\n",
       "    .dataframe tbody tr th {\n",
       "        vertical-align: top;\n",
       "    }\n",
       "\n",
       "    .dataframe thead th {\n",
       "        text-align: right;\n",
       "    }\n",
       "</style>\n",
       "<table border=\"1\" class=\"dataframe\">\n",
       "  <thead>\n",
       "    <tr style=\"text-align: right;\">\n",
       "      <th></th>\n",
       "      <th>Book</th>\n",
       "      <th>Author(s)</th>\n",
       "      <th>Original language</th>\n",
       "      <th>First published</th>\n",
       "      <th>Approximate sales</th>\n",
       "      <th>Genre</th>\n",
       "    </tr>\n",
       "  </thead>\n",
       "  <tbody>\n",
       "    <tr>\n",
       "      <th>0</th>\n",
       "      <td>A Tale of Two Cities</td>\n",
       "      <td>Charles Dickens</td>\n",
       "      <td>English</td>\n",
       "      <td>1859</td>\n",
       "      <td>&gt;200 million[20][circular reporting?]</td>\n",
       "      <td>Historical fiction</td>\n",
       "    </tr>\n",
       "    <tr>\n",
       "      <th>1</th>\n",
       "      <td>The Little Prince (Le Petit Prince)</td>\n",
       "      <td>Antoine de Saint-Exupéry</td>\n",
       "      <td>French</td>\n",
       "      <td>1943</td>\n",
       "      <td>200 million[21][22]</td>\n",
       "      <td>Fantasy, Children's fiction</td>\n",
       "    </tr>\n",
       "    <tr>\n",
       "      <th>2</th>\n",
       "      <td>Harry Potter and the Philosopher's Stone</td>\n",
       "      <td>J. K. Rowling</td>\n",
       "      <td>English</td>\n",
       "      <td>1997</td>\n",
       "      <td>120 million[23][24]</td>\n",
       "      <td>Fantasy, Children's fiction</td>\n",
       "    </tr>\n",
       "    <tr>\n",
       "      <th>3</th>\n",
       "      <td>And Then There Were None</td>\n",
       "      <td>Agatha Christie</td>\n",
       "      <td>English</td>\n",
       "      <td>1939</td>\n",
       "      <td>100 million[25]</td>\n",
       "      <td>Mystery</td>\n",
       "    </tr>\n",
       "    <tr>\n",
       "      <th>4</th>\n",
       "      <td>Dream of the Red Chamber (???)</td>\n",
       "      <td>Cao Xueqin</td>\n",
       "      <td>Chinese</td>\n",
       "      <td>1791</td>\n",
       "      <td>100 million[26][27]</td>\n",
       "      <td>Family saga</td>\n",
       "    </tr>\n",
       "    <tr>\n",
       "      <th>...</th>\n",
       "      <td>...</td>\n",
       "      <td>...</td>\n",
       "      <td>...</td>\n",
       "      <td>...</td>\n",
       "      <td>...</td>\n",
       "      <td>...</td>\n",
       "    </tr>\n",
       "    <tr>\n",
       "      <th>259</th>\n",
       "      <td>Bridget Jones's Diary</td>\n",
       "      <td>Helen Fielding</td>\n",
       "      <td>English</td>\n",
       "      <td>1996</td>\n",
       "      <td>10 million (as of 2005)[186]</td>\n",
       "      <td>Erotica</td>\n",
       "    </tr>\n",
       "    <tr>\n",
       "      <th>260</th>\n",
       "      <td>World Almanac (published every year)</td>\n",
       "      <td>Various authors</td>\n",
       "      <td>English</td>\n",
       "      <td>1868</td>\n",
       "      <td>82 million[325][326]</td>\n",
       "      <td>Erotica</td>\n",
       "    </tr>\n",
       "    <tr>\n",
       "      <th>261</th>\n",
       "      <td>Betty Crocker Cookbook</td>\n",
       "      <td>General Mills staff</td>\n",
       "      <td>English</td>\n",
       "      <td>1950</td>\n",
       "      <td>75 million[327]</td>\n",
       "      <td>Erotica</td>\n",
       "    </tr>\n",
       "    <tr>\n",
       "      <th>262</th>\n",
       "      <td>Tung Shing (Chinese: ??)</td>\n",
       "      <td>Choi Park Lai's family, among others</td>\n",
       "      <td>Chinese</td>\n",
       "      <td>1891</td>\n",
       "      <td>&gt;70 million (Only counting version published b...</td>\n",
       "      <td>Erotica</td>\n",
       "    </tr>\n",
       "    <tr>\n",
       "      <th>263</th>\n",
       "      <td>Merriam-Webster's Collegiate Dictionary</td>\n",
       "      <td>Merriam-Webster</td>\n",
       "      <td>English</td>\n",
       "      <td>1898</td>\n",
       "      <td>55 million[329]</td>\n",
       "      <td>Erotica</td>\n",
       "    </tr>\n",
       "  </tbody>\n",
       "</table>\n",
       "<p>264 rows × 6 columns</p>\n",
       "</div>"
      ],
      "text/plain": [
       "                                         Book  \\\n",
       "0                        A Tale of Two Cities   \n",
       "1         The Little Prince (Le Petit Prince)   \n",
       "2    Harry Potter and the Philosopher's Stone   \n",
       "3                    And Then There Were None   \n",
       "4              Dream of the Red Chamber (???)   \n",
       "..                                        ...   \n",
       "259                     Bridget Jones's Diary   \n",
       "260      World Almanac (published every year)   \n",
       "261                    Betty Crocker Cookbook   \n",
       "262                  Tung Shing (Chinese: ??)   \n",
       "263   Merriam-Webster's Collegiate Dictionary   \n",
       "\n",
       "                                Author(s) Original language First published  \\\n",
       "0                         Charles Dickens           English            1859   \n",
       "1                Antoine de Saint-Exupéry            French            1943   \n",
       "2                           J. K. Rowling           English            1997   \n",
       "3                         Agatha Christie           English            1939   \n",
       "4                              Cao Xueqin           Chinese            1791   \n",
       "..                                    ...               ...             ...   \n",
       "259                        Helen Fielding           English            1996   \n",
       "260                       Various authors           English            1868   \n",
       "261                   General Mills staff           English            1950   \n",
       "262  Choi Park Lai's family, among others           Chinese            1891   \n",
       "263                       Merriam-Webster           English            1898   \n",
       "\n",
       "                                     Approximate sales  \\\n",
       "0                >200 million[20][circular reporting?]   \n",
       "1                                  200 million[21][22]   \n",
       "2                                  120 million[23][24]   \n",
       "3                                      100 million[25]   \n",
       "4                                  100 million[26][27]   \n",
       "..                                                 ...   \n",
       "259                       10 million (as of 2005)[186]   \n",
       "260                               82 million[325][326]   \n",
       "261                                    75 million[327]   \n",
       "262  >70 million (Only counting version published b...   \n",
       "263                                    55 million[329]   \n",
       "\n",
       "                           Genre  \n",
       "0             Historical fiction  \n",
       "1    Fantasy, Children's fiction  \n",
       "2    Fantasy, Children's fiction  \n",
       "3                        Mystery  \n",
       "4                    Family saga  \n",
       "..                           ...  \n",
       "259                      Erotica  \n",
       "260                      Erotica  \n",
       "261                      Erotica  \n",
       "262                      Erotica  \n",
       "263                      Erotica  \n",
       "\n",
       "[264 rows x 6 columns]"
      ]
     },
     "execution_count": 8,
     "metadata": {},
     "output_type": "execute_result"
    }
   ],
   "source": [
    "df"
   ]
  },
  {
   "cell_type": "code",
   "execution_count": 9,
   "id": "f34b0a3b-98ed-4f85-8969-32c579a8c153",
   "metadata": {},
   "outputs": [],
   "source": [
    "df['First published'] = df['First published'].astype(int)"
   ]
  },
  {
   "cell_type": "code",
   "execution_count": 10,
   "id": "168ff81e-ee74-49b3-b335-5cc6fe85e0f9",
   "metadata": {},
   "outputs": [],
   "source": [
    "def trim_first_char(value):\n",
    "    return value[1:] if not value[0].isdigit() else value\n"
   ]
  },
  {
   "cell_type": "code",
   "execution_count": 11,
   "id": "27295542-2ea2-4ece-8986-3f396a416c03",
   "metadata": {},
   "outputs": [],
   "source": [
    "def trim_last_char(value):\n",
    "    return value[:-1] if not value[-1].isdigit() else value"
   ]
  },
  {
   "cell_type": "code",
   "execution_count": 12,
   "id": "edd2b9b6-dc28-4840-a405-918166931d12",
   "metadata": {},
   "outputs": [],
   "source": [
    "df['Approximate sales'] = df['Approximate sales'].apply(trim_first_char)"
   ]
  },
  {
   "cell_type": "code",
   "execution_count": 13,
   "id": "3b329c0a-bc8f-4e2e-8ac0-0a4a044cd184",
   "metadata": {},
   "outputs": [],
   "source": [
    "df['Approximate sales'] = df['Approximate sales'].str.slice(0, 3)"
   ]
  },
  {
   "cell_type": "code",
   "execution_count": 14,
   "id": "1d9723d7-3b2d-46bb-92dd-2d347b150fce",
   "metadata": {},
   "outputs": [],
   "source": [
    "df['Approximate sales'] = df['Approximate sales'].apply(trim_last_char)"
   ]
  },
  {
   "cell_type": "code",
   "execution_count": 15,
   "id": "b00a16ba-4be6-4c64-aec6-eda56af15da0",
   "metadata": {},
   "outputs": [],
   "source": [
    "df['Approximate sales'] = pd.to_numeric(df['Approximate sales'], errors='coerce')"
   ]
  },
  {
   "cell_type": "code",
   "execution_count": 16,
   "id": "bec03c73-7544-4991-bc8f-8f3c5b29c42b",
   "metadata": {},
   "outputs": [
    {
     "data": {
      "text/html": [
       "<div>\n",
       "<style scoped>\n",
       "    .dataframe tbody tr th:only-of-type {\n",
       "        vertical-align: middle;\n",
       "    }\n",
       "\n",
       "    .dataframe tbody tr th {\n",
       "        vertical-align: top;\n",
       "    }\n",
       "\n",
       "    .dataframe thead th {\n",
       "        text-align: right;\n",
       "    }\n",
       "</style>\n",
       "<table border=\"1\" class=\"dataframe\">\n",
       "  <thead>\n",
       "    <tr style=\"text-align: right;\">\n",
       "      <th></th>\n",
       "      <th>Book</th>\n",
       "      <th>Author(s)</th>\n",
       "      <th>Original language</th>\n",
       "      <th>First published</th>\n",
       "      <th>Approximate sales</th>\n",
       "      <th>Genre</th>\n",
       "    </tr>\n",
       "  </thead>\n",
       "  <tbody>\n",
       "    <tr>\n",
       "      <th>0</th>\n",
       "      <td>False</td>\n",
       "      <td>False</td>\n",
       "      <td>False</td>\n",
       "      <td>False</td>\n",
       "      <td>False</td>\n",
       "      <td>False</td>\n",
       "    </tr>\n",
       "    <tr>\n",
       "      <th>1</th>\n",
       "      <td>False</td>\n",
       "      <td>False</td>\n",
       "      <td>False</td>\n",
       "      <td>False</td>\n",
       "      <td>False</td>\n",
       "      <td>False</td>\n",
       "    </tr>\n",
       "    <tr>\n",
       "      <th>2</th>\n",
       "      <td>False</td>\n",
       "      <td>False</td>\n",
       "      <td>False</td>\n",
       "      <td>False</td>\n",
       "      <td>False</td>\n",
       "      <td>False</td>\n",
       "    </tr>\n",
       "    <tr>\n",
       "      <th>3</th>\n",
       "      <td>False</td>\n",
       "      <td>False</td>\n",
       "      <td>False</td>\n",
       "      <td>False</td>\n",
       "      <td>False</td>\n",
       "      <td>False</td>\n",
       "    </tr>\n",
       "    <tr>\n",
       "      <th>4</th>\n",
       "      <td>False</td>\n",
       "      <td>False</td>\n",
       "      <td>False</td>\n",
       "      <td>False</td>\n",
       "      <td>False</td>\n",
       "      <td>False</td>\n",
       "    </tr>\n",
       "    <tr>\n",
       "      <th>...</th>\n",
       "      <td>...</td>\n",
       "      <td>...</td>\n",
       "      <td>...</td>\n",
       "      <td>...</td>\n",
       "      <td>...</td>\n",
       "      <td>...</td>\n",
       "    </tr>\n",
       "    <tr>\n",
       "      <th>259</th>\n",
       "      <td>False</td>\n",
       "      <td>False</td>\n",
       "      <td>False</td>\n",
       "      <td>False</td>\n",
       "      <td>False</td>\n",
       "      <td>False</td>\n",
       "    </tr>\n",
       "    <tr>\n",
       "      <th>260</th>\n",
       "      <td>False</td>\n",
       "      <td>False</td>\n",
       "      <td>False</td>\n",
       "      <td>False</td>\n",
       "      <td>False</td>\n",
       "      <td>False</td>\n",
       "    </tr>\n",
       "    <tr>\n",
       "      <th>261</th>\n",
       "      <td>False</td>\n",
       "      <td>False</td>\n",
       "      <td>False</td>\n",
       "      <td>False</td>\n",
       "      <td>False</td>\n",
       "      <td>False</td>\n",
       "    </tr>\n",
       "    <tr>\n",
       "      <th>262</th>\n",
       "      <td>False</td>\n",
       "      <td>False</td>\n",
       "      <td>False</td>\n",
       "      <td>False</td>\n",
       "      <td>False</td>\n",
       "      <td>False</td>\n",
       "    </tr>\n",
       "    <tr>\n",
       "      <th>263</th>\n",
       "      <td>False</td>\n",
       "      <td>False</td>\n",
       "      <td>False</td>\n",
       "      <td>False</td>\n",
       "      <td>False</td>\n",
       "      <td>False</td>\n",
       "    </tr>\n",
       "  </tbody>\n",
       "</table>\n",
       "<p>264 rows × 6 columns</p>\n",
       "</div>"
      ],
      "text/plain": [
       "      Book  Author(s)  Original language  First published  Approximate sales  \\\n",
       "0    False      False              False            False              False   \n",
       "1    False      False              False            False              False   \n",
       "2    False      False              False            False              False   \n",
       "3    False      False              False            False              False   \n",
       "4    False      False              False            False              False   \n",
       "..     ...        ...                ...              ...                ...   \n",
       "259  False      False              False            False              False   \n",
       "260  False      False              False            False              False   \n",
       "261  False      False              False            False              False   \n",
       "262  False      False              False            False              False   \n",
       "263  False      False              False            False              False   \n",
       "\n",
       "     Genre  \n",
       "0    False  \n",
       "1    False  \n",
       "2    False  \n",
       "3    False  \n",
       "4    False  \n",
       "..     ...  \n",
       "259  False  \n",
       "260  False  \n",
       "261  False  \n",
       "262  False  \n",
       "263  False  \n",
       "\n",
       "[264 rows x 6 columns]"
      ]
     },
     "execution_count": 16,
     "metadata": {},
     "output_type": "execute_result"
    }
   ],
   "source": [
    "df.isnull()"
   ]
  },
  {
   "cell_type": "code",
   "execution_count": 17,
   "id": "524c30f1-0432-4eab-92e8-c3e2458334f9",
   "metadata": {},
   "outputs": [
    {
     "data": {
      "text/html": [
       "<div>\n",
       "<style scoped>\n",
       "    .dataframe tbody tr th:only-of-type {\n",
       "        vertical-align: middle;\n",
       "    }\n",
       "\n",
       "    .dataframe tbody tr th {\n",
       "        vertical-align: top;\n",
       "    }\n",
       "\n",
       "    .dataframe thead th {\n",
       "        text-align: right;\n",
       "    }\n",
       "</style>\n",
       "<table border=\"1\" class=\"dataframe\">\n",
       "  <thead>\n",
       "    <tr style=\"text-align: right;\">\n",
       "      <th></th>\n",
       "      <th>Book</th>\n",
       "      <th>Author(s)</th>\n",
       "      <th>Original language</th>\n",
       "      <th>First published</th>\n",
       "      <th>Approximate sales</th>\n",
       "      <th>Genre</th>\n",
       "    </tr>\n",
       "  </thead>\n",
       "  <tbody>\n",
       "    <tr>\n",
       "      <th>0</th>\n",
       "      <td>A Tale of Two Cities</td>\n",
       "      <td>Charles Dickens</td>\n",
       "      <td>English</td>\n",
       "      <td>1859</td>\n",
       "      <td>200.0</td>\n",
       "      <td>Historical fiction</td>\n",
       "    </tr>\n",
       "    <tr>\n",
       "      <th>1</th>\n",
       "      <td>The Little Prince (Le Petit Prince)</td>\n",
       "      <td>Antoine de Saint-Exupéry</td>\n",
       "      <td>French</td>\n",
       "      <td>1943</td>\n",
       "      <td>200.0</td>\n",
       "      <td>Fantasy, Children's fiction</td>\n",
       "    </tr>\n",
       "    <tr>\n",
       "      <th>2</th>\n",
       "      <td>Harry Potter and the Philosopher's Stone</td>\n",
       "      <td>J. K. Rowling</td>\n",
       "      <td>English</td>\n",
       "      <td>1997</td>\n",
       "      <td>120.0</td>\n",
       "      <td>Fantasy, Children's fiction</td>\n",
       "    </tr>\n",
       "    <tr>\n",
       "      <th>3</th>\n",
       "      <td>And Then There Were None</td>\n",
       "      <td>Agatha Christie</td>\n",
       "      <td>English</td>\n",
       "      <td>1939</td>\n",
       "      <td>100.0</td>\n",
       "      <td>Mystery</td>\n",
       "    </tr>\n",
       "    <tr>\n",
       "      <th>4</th>\n",
       "      <td>Dream of the Red Chamber (???)</td>\n",
       "      <td>Cao Xueqin</td>\n",
       "      <td>Chinese</td>\n",
       "      <td>1791</td>\n",
       "      <td>100.0</td>\n",
       "      <td>Family saga</td>\n",
       "    </tr>\n",
       "    <tr>\n",
       "      <th>...</th>\n",
       "      <td>...</td>\n",
       "      <td>...</td>\n",
       "      <td>...</td>\n",
       "      <td>...</td>\n",
       "      <td>...</td>\n",
       "      <td>...</td>\n",
       "    </tr>\n",
       "    <tr>\n",
       "      <th>259</th>\n",
       "      <td>Bridget Jones's Diary</td>\n",
       "      <td>Helen Fielding</td>\n",
       "      <td>English</td>\n",
       "      <td>1996</td>\n",
       "      <td>10.0</td>\n",
       "      <td>Erotica</td>\n",
       "    </tr>\n",
       "    <tr>\n",
       "      <th>260</th>\n",
       "      <td>World Almanac (published every year)</td>\n",
       "      <td>Various authors</td>\n",
       "      <td>English</td>\n",
       "      <td>1868</td>\n",
       "      <td>82.0</td>\n",
       "      <td>Erotica</td>\n",
       "    </tr>\n",
       "    <tr>\n",
       "      <th>261</th>\n",
       "      <td>Betty Crocker Cookbook</td>\n",
       "      <td>General Mills staff</td>\n",
       "      <td>English</td>\n",
       "      <td>1950</td>\n",
       "      <td>75.0</td>\n",
       "      <td>Erotica</td>\n",
       "    </tr>\n",
       "    <tr>\n",
       "      <th>262</th>\n",
       "      <td>Tung Shing (Chinese: ??)</td>\n",
       "      <td>Choi Park Lai's family, among others</td>\n",
       "      <td>Chinese</td>\n",
       "      <td>1891</td>\n",
       "      <td>70.0</td>\n",
       "      <td>Erotica</td>\n",
       "    </tr>\n",
       "    <tr>\n",
       "      <th>263</th>\n",
       "      <td>Merriam-Webster's Collegiate Dictionary</td>\n",
       "      <td>Merriam-Webster</td>\n",
       "      <td>English</td>\n",
       "      <td>1898</td>\n",
       "      <td>55.0</td>\n",
       "      <td>Erotica</td>\n",
       "    </tr>\n",
       "  </tbody>\n",
       "</table>\n",
       "<p>263 rows × 6 columns</p>\n",
       "</div>"
      ],
      "text/plain": [
       "                                         Book  \\\n",
       "0                        A Tale of Two Cities   \n",
       "1         The Little Prince (Le Petit Prince)   \n",
       "2    Harry Potter and the Philosopher's Stone   \n",
       "3                    And Then There Were None   \n",
       "4              Dream of the Red Chamber (???)   \n",
       "..                                        ...   \n",
       "259                     Bridget Jones's Diary   \n",
       "260      World Almanac (published every year)   \n",
       "261                    Betty Crocker Cookbook   \n",
       "262                  Tung Shing (Chinese: ??)   \n",
       "263   Merriam-Webster's Collegiate Dictionary   \n",
       "\n",
       "                                Author(s) Original language  First published  \\\n",
       "0                         Charles Dickens           English             1859   \n",
       "1                Antoine de Saint-Exupéry            French             1943   \n",
       "2                           J. K. Rowling           English             1997   \n",
       "3                         Agatha Christie           English             1939   \n",
       "4                              Cao Xueqin           Chinese             1791   \n",
       "..                                    ...               ...              ...   \n",
       "259                        Helen Fielding           English             1996   \n",
       "260                       Various authors           English             1868   \n",
       "261                   General Mills staff           English             1950   \n",
       "262  Choi Park Lai's family, among others           Chinese             1891   \n",
       "263                       Merriam-Webster           English             1898   \n",
       "\n",
       "     Approximate sales                        Genre  \n",
       "0                200.0           Historical fiction  \n",
       "1                200.0  Fantasy, Children's fiction  \n",
       "2                120.0  Fantasy, Children's fiction  \n",
       "3                100.0                      Mystery  \n",
       "4                100.0                  Family saga  \n",
       "..                 ...                          ...  \n",
       "259               10.0                      Erotica  \n",
       "260               82.0                      Erotica  \n",
       "261               75.0                      Erotica  \n",
       "262               70.0                      Erotica  \n",
       "263               55.0                      Erotica  \n",
       "\n",
       "[263 rows x 6 columns]"
      ]
     },
     "execution_count": 17,
     "metadata": {},
     "output_type": "execute_result"
    }
   ],
   "source": [
    "df.dropna()"
   ]
  },
  {
   "cell_type": "code",
   "execution_count": 18,
   "id": "db76471e-10b9-4f74-b91a-3063ef8729f2",
   "metadata": {},
   "outputs": [],
   "source": [
    "df = df.rename(columns={'Approximate sales': 'Approximate_sales_in_mln',\n",
    "                       'Original language' : 'Orginal_language',\n",
    "                        'First published' : 'First_published',\n",
    "                        'Author(s)' : 'Author'\n",
    "                       })"
   ]
  },
  {
   "cell_type": "code",
   "execution_count": null,
   "id": "3ede4911-1025-42e5-8e0a-4fbeb868f250",
   "metadata": {},
   "outputs": [],
   "source": [
    "\n"
   ]
  },
  {
   "cell_type": "raw",
   "id": "0b3f9e6b-a355-4b20-8062-333485bf8e85",
   "metadata": {},
   "source": [
    "Prepare data to visualise number of bestsellers accros the years."
   ]
  },
  {
   "cell_type": "code",
   "execution_count": 19,
   "id": "0e9c32c2-c801-4d1b-a2a3-14b96a2902d7",
   "metadata": {},
   "outputs": [],
   "source": [
    "dfYear = df.groupby('First_published').count()"
   ]
  },
  {
   "cell_type": "code",
   "execution_count": 20,
   "id": "631ec311-a835-4614-98c2-49c0e388ecb7",
   "metadata": {},
   "outputs": [],
   "source": [
    "dfYear = dfYear.reset_index()"
   ]
  },
  {
   "cell_type": "code",
   "execution_count": 21,
   "id": "44e03119-4ffb-4ba4-8d25-f35f01f76258",
   "metadata": {},
   "outputs": [],
   "source": [
    "dfYear = dfYear[dfYear['First_published'] > 1900]"
   ]
  },
  {
   "cell_type": "code",
   "execution_count": 22,
   "id": "fa619b18-f983-498e-a372-1863658e9b07",
   "metadata": {},
   "outputs": [
    {
     "data": {
      "text/plain": [
       "<Axes: xlabel='First_published', ylabel='Book'>"
      ]
     },
     "execution_count": 22,
     "metadata": {},
     "output_type": "execute_result"
    },
    {
     "data": {
      "image/png": "[encoded data removed]",
      "text/plain": [
       "<Figure size 640x480 with 1 Axes>"
      ]
     },
     "metadata": {},
     "output_type": "display_data"
    }
   ],
   "source": [
    "sns.lineplot(data = dfYear, x = 'First_published', y = 'Book')\n"
   ]
  },
  {
   "cell_type": "raw",
   "id": "569bb157-0f01-48f0-b92c-f3e54557c6a7",
   "metadata": {},
   "source": [
    "Let's see what genre and which country of origin born the most bestsellers\n"
   ]
  },
  {
   "cell_type": "code",
   "execution_count": 23,
   "id": "a2a702eb-9976-4774-9b8b-d04362bb53b9",
   "metadata": {},
   "outputs": [],
   "source": [
    "dfGenre = df.groupby('Genre').count()"
   ]
  },
  {
   "cell_type": "code",
   "execution_count": 24,
   "id": "4dda6359-7eff-4999-b2be-f6a67e6ebf86",
   "metadata": {},
   "outputs": [],
   "source": [
    "dfGenre = dfGenre[dfGenre['Book'] > 5]"
   ]
  },
  {
   "cell_type": "code",
   "execution_count": 25,
   "id": "1cec321c-020a-49f3-9ea8-65d3c6c032c1",
   "metadata": {},
   "outputs": [],
   "source": [
    "dfGenre = dfGenre.reset_index()"
   ]
  },
  {
   "cell_type": "code",
   "execution_count": 26,
   "id": "650e302a-c83c-48f4-b9e9-45ecfba308ed",
   "metadata": {},
   "outputs": [],
   "source": [
    "order_list = dfGenre.sort_values('Book', ascending = False)"
   ]
  },
  {
   "cell_type": "code",
   "execution_count": 27,
   "id": "b6dee17b-20ca-4cf9-97a5-b6061d7e3f63",
   "metadata": {},
   "outputs": [
    {
     "data": {
      "text/html": [
       "<div>\n",
       "<style scoped>\n",
       "    .dataframe tbody tr th:only-of-type {\n",
       "        vertical-align: middle;\n",
       "    }\n",
       "\n",
       "    .dataframe tbody tr th {\n",
       "        vertical-align: top;\n",
       "    }\n",
       "\n",
       "    .dataframe thead th {\n",
       "        text-align: right;\n",
       "    }\n",
       "</style>\n",
       "<table border=\"1\" class=\"dataframe\">\n",
       "  <thead>\n",
       "    <tr style=\"text-align: right;\">\n",
       "      <th></th>\n",
       "      <th>Genre</th>\n",
       "      <th>Book</th>\n",
       "      <th>Author</th>\n",
       "      <th>Orginal_language</th>\n",
       "      <th>First_published</th>\n",
       "      <th>Approximate_sales_in_mln</th>\n",
       "    </tr>\n",
       "  </thead>\n",
       "  <tbody>\n",
       "    <tr>\n",
       "      <th>2</th>\n",
       "      <td>Erotica</td>\n",
       "      <td>77</td>\n",
       "      <td>77</td>\n",
       "      <td>77</td>\n",
       "      <td>77</td>\n",
       "      <td>77</td>\n",
       "    </tr>\n",
       "    <tr>\n",
       "      <th>6</th>\n",
       "      <td>Science fiction</td>\n",
       "      <td>24</td>\n",
       "      <td>24</td>\n",
       "      <td>24</td>\n",
       "      <td>24</td>\n",
       "      <td>24</td>\n",
       "    </tr>\n",
       "    <tr>\n",
       "      <th>4</th>\n",
       "      <td>Historical fiction</td>\n",
       "      <td>20</td>\n",
       "      <td>20</td>\n",
       "      <td>20</td>\n",
       "      <td>20</td>\n",
       "      <td>20</td>\n",
       "    </tr>\n",
       "    <tr>\n",
       "      <th>1</th>\n",
       "      <td>Dystopian fiction</td>\n",
       "      <td>18</td>\n",
       "      <td>18</td>\n",
       "      <td>18</td>\n",
       "      <td>18</td>\n",
       "      <td>18</td>\n",
       "    </tr>\n",
       "    <tr>\n",
       "      <th>0</th>\n",
       "      <td>Children's Literature</td>\n",
       "      <td>14</td>\n",
       "      <td>14</td>\n",
       "      <td>14</td>\n",
       "      <td>14</td>\n",
       "      <td>14</td>\n",
       "    </tr>\n",
       "    <tr>\n",
       "      <th>3</th>\n",
       "      <td>Fantasy</td>\n",
       "      <td>8</td>\n",
       "      <td>8</td>\n",
       "      <td>8</td>\n",
       "      <td>8</td>\n",
       "      <td>8</td>\n",
       "    </tr>\n",
       "    <tr>\n",
       "      <th>5</th>\n",
       "      <td>Novel</td>\n",
       "      <td>8</td>\n",
       "      <td>8</td>\n",
       "      <td>8</td>\n",
       "      <td>8</td>\n",
       "      <td>8</td>\n",
       "    </tr>\n",
       "    <tr>\n",
       "      <th>7</th>\n",
       "      <td>Young Adult Fiction</td>\n",
       "      <td>6</td>\n",
       "      <td>6</td>\n",
       "      <td>6</td>\n",
       "      <td>6</td>\n",
       "      <td>6</td>\n",
       "    </tr>\n",
       "  </tbody>\n",
       "</table>\n",
       "</div>"
      ],
      "text/plain": [
       "                   Genre  Book  Author  Orginal_language  First_published  \\\n",
       "2                Erotica    77      77                77               77   \n",
       "6        Science fiction    24      24                24               24   \n",
       "4     Historical fiction    20      20                20               20   \n",
       "1      Dystopian fiction    18      18                18               18   \n",
       "0  Children's Literature    14      14                14               14   \n",
       "3                Fantasy     8       8                 8                8   \n",
       "5                  Novel     8       8                 8                8   \n",
       "7    Young Adult Fiction     6       6                 6                6   \n",
       "\n",
       "   Approximate_sales_in_mln  \n",
       "2                        77  \n",
       "6                        24  \n",
       "4                        20  \n",
       "1                        18  \n",
       "0                        14  \n",
       "3                         8  \n",
       "5                         8  \n",
       "7                         6  "
      ]
     },
     "execution_count": 27,
     "metadata": {},
     "output_type": "execute_result"
    }
   ],
   "source": [
    "order_list"
   ]
  },
  {
   "cell_type": "code",
   "execution_count": 28,
   "id": "1719474a-4bcf-4eee-a3e0-ff2ea3b241d8",
   "metadata": {},
   "outputs": [
    {
     "data": {
      "text/plain": [
       "<Axes: xlabel='Genre', ylabel='Book'>"
      ]
     },
     "execution_count": 28,
     "metadata": {},
     "output_type": "execute_result"
    },
    {
     "data": {
      "image/png": "[encoded data removed]",
      "text/plain": [
       "<Figure size 1400x600 with 1 Axes>"
      ]
     },
     "metadata": {},
     "output_type": "display_data"
    }
   ],
   "source": [
    "plt.figure(figsize=(14, 6))\n",
    "sns.barplot(data = dfGenre, x = 'Genre', y = 'Book', order = order_list['Genre'])"
   ]
  },
  {
   "cell_type": "code",
   "execution_count": 29,
   "id": "862d17d9-ea13-4981-87da-c98c57f386ba",
   "metadata": {},
   "outputs": [],
   "source": [
    "dfCountry = df.groupby('Orginal_language').count()"
   ]
  },
  {
   "cell_type": "code",
   "execution_count": 30,
   "id": "4f4ba1c4-e17f-49c8-87a2-a189930cbff9",
   "metadata": {},
   "outputs": [],
   "source": [
    "dfCountry = dfCountry[dfCountry['Book'] > 5]"
   ]
  },
  {
   "cell_type": "code",
   "execution_count": 31,
   "id": "baef2512-c087-44af-a3de-9929966428aa",
   "metadata": {},
   "outputs": [],
   "source": [
    "dfCountry = dfCountry.reset_index()\n"
   ]
  },
  {
   "cell_type": "code",
   "execution_count": 32,
   "id": "6f3cdf05-d330-4096-997e-2e14a61b0037",
   "metadata": {},
   "outputs": [],
   "source": [
    "order_list1 = dfCountry.sort_values('Book', ascending = False)"
   ]
  },
  {
   "cell_type": "code",
   "execution_count": 33,
   "id": "55a3dcba-41ca-4f79-b836-2b53df5bb8ba",
   "metadata": {},
   "outputs": [
    {
     "data": {
      "text/plain": [
       "Text(0, 0.5, 'Num Of Books Log')"
      ]
     },
     "execution_count": 33,
     "metadata": {},
     "output_type": "execute_result"
    },
    {
     "data": {
      "image/png": "[encoded data removed]",
      "text/plain": [
       "<Figure size 1400x600 with 1 Axes>"
      ]
     },
     "metadata": {},
     "output_type": "display_data"
    }
   ],
   "source": [
    "plt.figure(figsize=(14, 6))\n",
    "sns.barplot(data = dfCountry, x = 'Orginal_language', y = 'Book', order = order_list1['Orginal_language'])\n",
    "plt.yscale('log')\n",
    "plt.ylabel('Num Of Books Log')"
   ]
  },
  {
   "cell_type": "raw",
   "id": "d8b3bc63-41f1-456e-a9bc-3cf042e427ba",
   "metadata": {},
   "source": [
    "Let's see who wrote best selling books "
   ]
  },
  {
   "cell_type": "code",
   "execution_count": 34,
   "id": "d0bf8657-a4f7-4f61-b436-1c0e7ec23795",
   "metadata": {},
   "outputs": [],
   "source": [
    "dfAuthor = df.groupby('Author').sum()"
   ]
  },
  {
   "cell_type": "code",
   "execution_count": 35,
   "id": "faa7ed67-9b55-4922-b0fa-536bc4cdb154",
   "metadata": {},
   "outputs": [],
   "source": [
    "dfAuthor = dfAuthor.reset_index()"
   ]
  },
  {
   "cell_type": "code",
   "execution_count": 42,
   "id": "eaed998a-266c-424a-a700-cd101ef7a732",
   "metadata": {},
   "outputs": [],
   "source": [
    "dfAuthor = dfAuthor[dfAuthor['Approximate_sales_in_mln'] > 75]"
   ]
  },
  {
   "cell_type": "code",
   "execution_count": 44,
   "id": "68b4096f-d742-435e-9455-320c8b11d8bf",
   "metadata": {},
   "outputs": [],
   "source": [
    "order_list2 = dfAuthor.sort_values('Approximate_sales_in_mln', ascending = False)"
   ]
  },
  {
   "cell_type": "code",
   "execution_count": 50,
   "id": "17bdeaa9-73c1-4d60-a95a-64aed42bbc97",
   "metadata": {},
   "outputs": [
    {
     "data": {
      "text/plain": [
       "([0, 1, 2, 3, 4, 5, 6, 7, 8, 9, 10],\n",
       " [Text(0, 0, 'J. K. Rowling'),\n",
       "  Text(1, 0, 'Antoine de Saint-Exupéry'),\n",
       "  Text(2, 0, 'Charles Dickens'),\n",
       "  Text(3, 0, 'Dan Brown'),\n",
       "  Text(4, 0, 'Agatha Christie'),\n",
       "  Text(5, 0, 'Cao Xueqin'),\n",
       "  Text(6, 0, 'J. R. R. Tolkien'),\n",
       "  Text(7, 0, 'Roald Dahl'),\n",
       "  Text(8, 0, 'H. Rider Haggard'),\n",
       "  Text(9, 0, 'Various authors'),\n",
       "  Text(10, 0, 'Ved Prakash Sharma')])"
      ]
     },
     "execution_count": 50,
     "metadata": {},
     "output_type": "execute_result"
    },
    {
     "data": {
      "image/png": "[encoded data removed]",
      "text/plain": [
       "<Figure size 1400x600 with 1 Axes>"
      ]
     },
     "metadata": {},
     "output_type": "display_data"
    }
   ],
   "source": [
    "plt.figure(figsize=(14, 6))\n",
    "sns.barplot(data = dfAuthor, x = 'Author', y = 'Approximate_sales_in_mln', order = order_list2['Author'])\n",
    "plt.xticks(rotation=45)"
   ]
  },
  {
   "cell_type": "raw",
   "id": "3be66441-57e5-4cf9-9d00-aafbedbca1f8",
   "metadata": {},
   "source": [
    "And at the end which book is world bestseller"
   ]
  },
  {
   "cell_type": "code",
   "execution_count": 51,
   "id": "1ad9b172-36e9-4430-b429-b74ef98d5512",
   "metadata": {},
   "outputs": [],
   "source": [
    "df2 = df.sort_values('Approximate_sales_in_mln', ascending = False)"
   ]
  },
  {
   "cell_type": "code",
   "execution_count": 53,
   "id": "dae997ad-9895-4873-9c48-ae177a6bd5dc",
   "metadata": {},
   "outputs": [],
   "source": [
    "df2 = df2.head(10)"
   ]
  },
  {
   "cell_type": "code",
   "execution_count": 56,
   "id": "aa0ed4c3-28fb-4928-9530-5060000ad0e2",
   "metadata": {},
   "outputs": [
    {
     "data": {
      "text/plain": [
       "([0, 1, 2, 3, 4, 5, 6, 7, 8, 9],\n",
       " [Text(0, 0, 'A Tale of Two Cities'),\n",
       "  Text(1, 0, 'The Little Prince (Le Petit Prince)'),\n",
       "  Text(2, 0, \"Harry Potter and the Philosopher's Stone\"),\n",
       "  Text(3, 0, 'And Then There Were None'),\n",
       "  Text(4, 0, 'Dream of the Red Chamber (???)'),\n",
       "  Text(5, 0, 'The Hobbit'),\n",
       "  Text(6, 0, 'She: A History of Adventure'),\n",
       "  Text(7, 0, 'World Almanac (published every year)'),\n",
       "  Text(8, 0, 'The Da Vinci Code'),\n",
       "  Text(9, 0, 'Vardi Wala Gunda (????? ???? ?????)')])"
      ]
     },
     "execution_count": 56,
     "metadata": {},
     "output_type": "execute_result"
    },
    {
     "data": {
      "image/png": "[encoded data removed]",
      "text/plain": [
       "<Figure size 1400x600 with 1 Axes>"
      ]
     },
     "metadata": {},
     "output_type": "display_data"
    }
   ],
   "source": [
    "plt.figure(figsize=(14, 6))\n",
    "sns.barplot(data = df2, x = 'Book', y = 'Approximate_sales_in_mln')\n",
    "plt.xticks(rotation=45)"
   ]
  },
  {
   "cell_type": "code",
   "execution_count": null,
   "id": "5ecdf135-dda7-4213-b424-e4304b0ae836",
   "metadata": {},
   "outputs": [],
   "source": []
  }
 ],
 "metadata": {
  "kernelspec": {
   "display_name": "Python 3 (ipykernel)",
   "language": "python",
   "name": "python3"
  },
  "language_info": {
   "codemirror_mode": {
    "name": "ipython",
    "version": 3
   },
   "file_extension": ".py",
   "mimetype": "text/x-python",
   "name": "python",
   "nbconvert_exporter": "python",
   "pygments_lexer": "ipython3",
   "version": "3.11.7"
  }
 },
 "nbformat": 4,
 "nbformat_minor": 5
}
